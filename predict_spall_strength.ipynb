{
  "cells": [
    {
      "cell_type": "markdown",
      "metadata": {
        "id": "4f6KZnwQri0d"
      },
      "source": [
        "This notebook imports the GPR model published in the article titled \"Machine Learning for Predictive Understanding of Spall Strength of Metals and Alloys\" and offers predictions for the spall strength of new candidates. For more detailed information, please refer to\n",
        "[hyperlink](paper)."
      ]
    },
    {
      "cell_type": "code",
      "execution_count": 2,
      "metadata": {
        "colab": {
          "base_uri": "https://localhost:8080/",
          "height": 257
        },
        "id": "klvat5vnSMF3",
        "outputId": "86b4c2d4-a60b-4874-a457-f948eaa21a04"
      },
      "outputs": [
        {
          "output_type": "stream",
          "name": "stdout",
          "text": [
            "/usr/local\n",
            "fatal: could not read Username for 'https://github.com': No such device or address\n"
          ]
        },
        {
          "output_type": "error",
          "ename": "FileNotFoundError",
          "evalue": "[Errno 2] No such file or directory: '/usr/local/spall_strength_prediction/models/GPR.pkl'",
          "traceback": [
            "\u001b[0;31m---------------------------------------------------------------------------\u001b[0m",
            "\u001b[0;31mFileNotFoundError\u001b[0m                         Traceback (most recent call last)",
            "\u001b[0;32m<ipython-input-2-240e70ea5782>\u001b[0m in \u001b[0;36m<cell line: 21>\u001b[0;34m()\u001b[0m\n\u001b[1;32m     19\u001b[0m \u001b[0;31m# Load models\u001b[0m\u001b[0;34m\u001b[0m\u001b[0;34m\u001b[0m\u001b[0m\n\u001b[1;32m     20\u001b[0m \u001b[0;31m# Load the GPR model\u001b[0m\u001b[0;34m\u001b[0m\u001b[0;34m\u001b[0m\u001b[0m\n\u001b[0;32m---> 21\u001b[0;31m \u001b[0;32mwith\u001b[0m \u001b[0mopen\u001b[0m\u001b[0;34m(\u001b[0m\u001b[0;34m'/usr/local/spall_strength_prediction/models/GPR.pkl'\u001b[0m\u001b[0;34m,\u001b[0m \u001b[0;34m'rb'\u001b[0m\u001b[0;34m)\u001b[0m \u001b[0;32mas\u001b[0m \u001b[0mfile\u001b[0m\u001b[0;34m:\u001b[0m\u001b[0;34m\u001b[0m\u001b[0;34m\u001b[0m\u001b[0m\n\u001b[0m\u001b[1;32m     22\u001b[0m     \u001b[0mGPR\u001b[0m \u001b[0;34m=\u001b[0m \u001b[0mpickle\u001b[0m\u001b[0;34m.\u001b[0m\u001b[0mload\u001b[0m\u001b[0;34m(\u001b[0m\u001b[0mfile\u001b[0m\u001b[0;34m)\u001b[0m\u001b[0;34m\u001b[0m\u001b[0;34m\u001b[0m\u001b[0m\n\u001b[1;32m     23\u001b[0m \u001b[0;34m\u001b[0m\u001b[0m\n",
            "\u001b[0;31mFileNotFoundError\u001b[0m: [Errno 2] No such file or directory: '/usr/local/spall_strength_prediction/models/GPR.pkl'"
          ]
        }
      ],
      "source": [
        "#@title Predict the Spall Strength for a Metal or Alloy\n",
        "#@markdown ***Please first input your parameters, and then press on the left button to run.***\n",
        "\n",
        "# Import packages\n",
        "import os\n",
        "import pickle\n",
        "import pandas as pd\n",
        "import sklearn\n",
        "from sklearn.preprocessing import StandardScaler\n",
        "from sklearn.preprocessing import MinMaxScaler\n",
        "\n",
        "# Import models\n",
        "if os.path.exists(\"/usr/local/spall_strength_prediction_models\"):\n",
        "  pass\n",
        "else:\n",
        "  %cd /usr/local\n",
        "  !git clone -q https://github.com/Ramprasad-Group/spall_strength_prediction.git\n",
        "\n",
        "# Load models\n",
        "# Load the GPR model\n",
        "with open('/usr/local/spall_strength_prediction/models/GPR.pkl', 'rb') as file:\n",
        "    GPR = pickle.load(file)\n",
        "\n",
        "\n",
        "\n",
        "# @markdown 1. Ultimate Tensile Strength (UTS) (MPa):\n",
        "UTS = 159 # @param {type:\"number\"}\n",
        "# @markdown 2. Tensile Yield Strength (MPa):\n",
        "yield_strength = 70 # @param {type:\"number\"}\n",
        "# @markdown 3. Bulk Modulus (GPa):\n",
        "bulk_modulus = 101 # @param {type:\"number\"}\n",
        "# @markdown 4. Young's Modulus (GPa):\n",
        "youngs_modulus = 75 # @param {type:\"number\"}\n",
        "# @markdown 5. Density (g/cc):\n",
        "density = 10.50 # @param {type:\"number\"}\n",
        "# @markdown 6. Vickers Hardness (HV):\n",
        "hardness = 25 # @param {type:\"number\"}\n",
        "# @markdown 7. Fracture Toughness (MPa√m):\n",
        "fracture_toughness = 73 # @param {type:\"number\"}\n",
        "\n",
        "# Create a pandas DataFrame\n",
        "column_names = ['UTS', 'yield_strength', 'bulk_modulus', 'youngs_modulus', 'density',\n",
        "       'hardness', 'fracture_toughness']\n",
        "input_data_list = [UTS,yield_strength, bulk_modulus, youngs_modulus, density,\n",
        "                   hardness, fracture_toughness]\n",
        "input_data = pd.DataFrame(columns=column_names)\n",
        "input_data.loc[len(input_data)] = input_data_list\n",
        "\n",
        "### Descriptor scaling ###\n",
        "train = pd.read_csv(\"/usr/local/spall_strength_prediction/datasets/train.csv\")\n",
        "trainX = train.to_numpy()[:,3:]\n",
        "testX = input_data.to_numpy()\n",
        "scalerM = MinMaxScaler()\n",
        "scalerM.fit(trainX)\n",
        "trainX_M = scalerM.transform(trainX)\n",
        "testX_M = scalerM.transform(testX)\n",
        "\n",
        "#GPR\n",
        "test_pred_GPR, test_pred_GPR_std = GPR.predict(testX_M, return_std=True)\n",
        "\n",
        "\n",
        "print('Predicted Spall Strength using Gaussian Process Regression (GPR) model is: %.3f ± %.3f GPa' %(test_pred_GPR[0], test_pred_GPR_std[0]))\n",
        "\n"
      ]
    },
    {
      "cell_type": "markdown",
      "metadata": {
        "id": "OmIrmhyUoltx"
      },
      "source": [
        "# References and further reading\n",
        "\n",
        "- Keara Frawley, Harikrishna Sahu, Naresh Thadhani, Rampi Ramprasad, *Machine Learning for Predictive Understanding of Spall Strength of Metals and Alloys*, citation info, DOI: [hyperlink](paper)"
      ]
    }
  ],
  "metadata": {
    "colab": {
      "provenance": []
    },
    "kernelspec": {
      "display_name": "Python 3",
      "name": "python3"
    },
    "language_info": {
      "name": "python"
    }
  },
  "nbformat": 4,
  "nbformat_minor": 0
}