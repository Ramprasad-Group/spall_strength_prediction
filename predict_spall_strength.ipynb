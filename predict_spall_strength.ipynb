{
 "cells": [
  {
   "cell_type": "markdown",
   "metadata": {
    "id": "4f6KZnwQri0d"
   },
   "source": [
    "This notebook imports the GPR model published in the article titled \"Machine Learning for Predictive Understanding of Spall Strength of Metals and Alloys\" and offers predictions for the spall strength of new candidates. For more detailed information, please refer to\n",
    "[hyperlink](paper)."
   ]
  },
  {
   "cell_type": "code",
   "execution_count": 1,
   "metadata": {
    "colab": {
     "base_uri": "https://localhost:8080/",
     "height": 428
    },
    "id": "klvat5vnSMF3",
    "outputId": "d11c3e36-9088-4a89-9763-dde41aea71b2"
   },
   "outputs": [
    {
     "name": "stdout",
     "output_type": "stream",
     "text": [
      "/usr/local\n",
      "fatal: could not create work tree dir 'spall_strength_prediction': Permission denied\n"
     ]
    },
    {
     "name": "stderr",
     "output_type": "stream",
     "text": [
      "/usr/local/lib/python3.11/site-packages/IPython/core/magics/osm.py:417: UserWarning: using dhist requires you to install the `pickleshare` library.\n",
      "  self.shell.db['dhist'] = compress_dhist(dhist)[-100:]\n"
     ]
    }
   ],
   "source": [
    "#@title Predict the Spall Strength for a Metal or Alloy\n",
    "#@markdown ***Please first input your parameters, and then press on the left button to run.***\n",
    "\n",
    "# Import packages\n",
    "import os\n",
    "import pickle\n",
    "import pandas as pd\n",
    "import sklearn\n",
    "from sklearn.preprocessing import MinMaxScaler\n",
    "from sklearn.gaussian_process import GaussianProcessRegressor\n",
    "from sklearn.gaussian_process.kernels import RBF\n",
    "\n",
    "# Import data\n",
    "if os.path.exists(\"/usr/local/spall_strength_prediction\"):\n",
    "  pass\n",
    "else:\n",
    "  %cd /usr/local\n",
    "  !git clone -q https://github.com/Ramprasad-Group/spall_strength_prediction.git\n",
    "    \n",
    "\n",
    "data = pd.read_csv(\"/usr/local/spall_strength_prediction/datasets/metals_and_alloys.csv\")\n",
    "\n",
    "data_X = data.to_numpy()[:,3:]\n",
    "data_Y = data.to_numpy()[:,2]\n",
    "\n",
    "### Descriptor scaling ###\n",
    "scalerM = MinMaxScaler()\n",
    "scalerM.fit(data_X)\n",
    "data_X_scaled = scalerM.transform(data_X)\n",
    "\n",
    "\n",
    "# Build the GPR model\n",
    "gpr_final = GaussianProcessRegressor(alpha=2,\n",
    "                                     kernel=3.5**2 * RBF(length_scale=.355)  ,\n",
    "                                     n_restarts_optimizer = 10,\n",
    "                                     normalize_y=True,\n",
    "                                     optimizer=None,\n",
    "                                     random_state=1\n",
    "                                    )\n",
    "\n",
    "GPR = gpr_final.fit(data_X_scaled, data_Y);\n"
   ]
  },
  {
   "cell_type": "code",
   "execution_count": 2,
   "metadata": {},
   "outputs": [
    {
     "name": "stdout",
     "output_type": "stream",
     "text": [
      "Predicted Spall Strength using Gaussian Process Regression (GPR) model is: 3.603 ± 3.372 GPa\n"
     ]
    }
   ],
   "source": [
    "## Making predictions using a form\n",
    "\n",
    "# @markdown 1. Ultimate Tensile Strength (UTS) (MPa):\n",
    "UTS = 1110 # @param {type:\"number\"}\n",
    "# @markdown 2. Tensile Yield Strength (MPa):\n",
    "yield_strength = 774 # @param {type:\"number\"}\n",
    "# @markdown 3. Bulk Modulus (GPa):\n",
    "bulk_modulus = 110 # @param {type:\"number\"}\n",
    "# @markdown 4. Young's Modulus (GPa):\n",
    "youngs_modulus = 70 # @param {type:\"number\"}\n",
    "# @markdown 5. Density (g/cc):\n",
    "density = 9.36 # @param {type:\"number\"}\n",
    "# @markdown 6. Vickers Hardness (HV):\n",
    "hardness = 372 # @param {type:\"number\"}\n",
    "# @markdown 7. Fracture Toughness (MPa√m):\n",
    "fracture_toughness = 62 # @param {type:\"number\"}\n",
    "\n",
    "# Create a pandas DataFrame\n",
    "column_names = ['UTS', 'yield_strength', 'bulk_modulus', 'youngs_modulus', 'density',\n",
    "       'hardness', 'fracture_toughness']\n",
    "input_data_list = [UTS,yield_strength, bulk_modulus, youngs_modulus, density,\n",
    "                   hardness, fracture_toughness]\n",
    "input_data = pd.DataFrame(columns=column_names)\n",
    "input_data.loc[len(input_data)] = input_data_list\n",
    "\n",
    "input_data_scaled = scalerM.transform(input_data.values)\n",
    "\n",
    "\n",
    "\n",
    "#GPR\n",
    "input_data_GPR, input_data_GPR_std = GPR.predict(input_data_scaled, return_std=True)\n",
    "\n",
    "\n",
    "print('Predicted Spall Strength using Gaussian Process Regression (GPR) model is: %.3f ± %.3f GPa' %(input_data_GPR[0], input_data_GPR_std[0]))\n",
    "\n"
   ]
  },
  {
   "cell_type": "code",
   "execution_count": 3,
   "metadata": {},
   "outputs": [
    {
     "name": "stdout",
     "output_type": "stream",
     "text": [
      "Predicted Spall Strength of 93W using Gaussian Process Regression (GPR) model is: 3.086 ± 2.123 GPa\n",
      "Predicted Spall Strength of HfZrTiTa using Gaussian Process Regression (GPR) model is: 3.603 ± 3.372 GPa\n",
      "Predicted Spall Strength of Ti 5553 using Gaussian Process Regression (GPR) model is: 2.944 ± 2.021 GPa\n"
     ]
    }
   ],
   "source": [
    "## Batch prediction\n",
    "\n",
    "batch_input =pd.read_csv(\"/Users/keara/Dropbox (GaTech)/spall/for_Github/datasets/validation_metals_and_alloys.csv\")\n",
    "batch_input_X = batch_input.to_numpy()[:,3:]\n",
    "\n",
    "### Descriptor scaling ###\n",
    "batch_input_X_scaled = scalerM.transform(batch_input_X)\n",
    "\n",
    "#GPR\n",
    "batch_GPR, batch_GPR_std = GPR.predict(batch_input_X_scaled, return_std=True)\n",
    "\n",
    "for i in range(0, len(batch_input)):\n",
    "    print('Predicted Spall Strength of %s using Gaussian Process Regression (GPR) model is: %.3f ± %.3f GPa' %(batch_input['name'][i], batch_GPR[i], batch_GPR_std[i]))\n",
    "\n"
   ]
  },
  {
   "cell_type": "markdown",
   "metadata": {
    "id": "OmIrmhyUoltx"
   },
   "source": [
    "# References and further reading\n",
    "\n",
    "- Keara Frawley, Harikrishna Sahu, Naresh Thadhani, Rampi Ramprasad, *Machine Learning for Predictive Understanding of Spall Strength of Metals and Alloys*, citation info, DOI: [hyperlink](paper)"
   ]
  },
  {
   "cell_type": "code",
   "execution_count": null,
   "metadata": {},
   "outputs": [],
   "source": []
  }
 ],
 "metadata": {
  "colab": {
   "provenance": []
  },
  "kernelspec": {
   "display_name": "Python 3 (ipykernel)",
   "language": "python",
   "name": "python3"
  },
  "language_info": {
   "codemirror_mode": {
    "name": "ipython",
    "version": 3
   },
   "file_extension": ".py",
   "mimetype": "text/x-python",
   "name": "python",
   "nbconvert_exporter": "python",
   "pygments_lexer": "ipython3",
   "version": "3.11.5"
  }
 },
 "nbformat": 4,
 "nbformat_minor": 4
}
