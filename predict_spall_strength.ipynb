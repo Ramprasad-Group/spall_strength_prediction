{
  "cells": [
    {
      "cell_type": "markdown",
      "metadata": {
        "id": "4f6KZnwQri0d"
      },
      "source": [
        "This notebook imports the GPR model published in the article titled \"A Machine Learning Approach to Predicting the Spall Strength of Metals and Alloys\" and offers predictions for the spall strength of new candidates.\n",
        "\n",
        "<!-- For more detailed information, please refer to [hyperlink](paper). -->"
      ]
    },
    {
      "cell_type": "code",
      "execution_count": null,
      "metadata": {
        "colab": {
          "base_uri": "https://localhost:8080/"
        },
        "id": "klvat5vnSMF3",
        "outputId": "4a95ff00-5f71-4005-e8ee-9709291590b0"
      },
      "outputs": [
        {
          "output_type": "stream",
          "name": "stdout",
          "text": [
            "Predicted Spall Strength using Gaussian Process Regression (GPR) model is: 2.93 ± 1.41 GPa\n"
          ]
        }
      ],
      "source": [
        "#@title Predict the Spall Strength for a Metal or Alloy\n",
        "#@markdown ***Please first input your parameters, and then press on the left button to run.***\n",
        "\n",
        "# Import packages\n",
        "import os\n",
        "import pickle\n",
        "import pandas as pd\n",
        "import sklearn\n",
        "from sklearn.preprocessing import StandardScaler\n",
        "from sklearn.preprocessing import MinMaxScaler\n",
        "\n",
        "# Import models\n",
        "if os.path.exists(\"/usr/local/spall_strength_prediction\"):\n",
        "  pass\n",
        "else:\n",
        "  %cd /usr/local\n",
        "  !git clone -q https://github.com/Ramprasad-Group/spall_strength_prediction.git\n",
        "\n",
        "\n",
        "# Load the GPR model\n",
        "with open('/usr/local/spall_strength_prediction/model/gpr.pkl', 'rb') as file:\n",
        "    GPR = pickle.load(file)\n",
        "\n",
        "# @markdown 1. Ultimate Tensile Strength (UTS) (MPa):\n",
        "UTS = 531 # @param {type:\"number\"}\n",
        "# @markdown 2. Tensile Yield Strength (MPa):\n",
        "yield_strength = 199 # @param {type:\"number\"}\n",
        "# @markdown 3. Bulk Modulus (GPa):\n",
        "bulk_modulus = 172 # @param {type:\"number\"}\n",
        "# @markdown 4. Young's Modulus (GPa):\n",
        "youngs_modulus = 211 # @param {type:\"number\"}\n",
        "# @markdown 5. Density (g/cc):\n",
        "density = 7.88 # @param {type:\"number\"}\n",
        "# @markdown 6. Vickers Hardness (HV):\n",
        "hardness = 458 # @param {type:\"number\"}\n",
        "# @markdown 7. Fracture Toughness (MPa√m):\n",
        "fracture_toughness = 14 # @param {type:\"number\"}\n",
        "\n",
        "# Create a pandas DataFrame\n",
        "column_names = ['UTS', 'yield_strength', 'bulk_modulus', 'youngs_modulus', 'density',\n",
        "       'hardness', 'fracture_toughness']\n",
        "input_data_list = [UTS,yield_strength, bulk_modulus, youngs_modulus, density,\n",
        "                   hardness, fracture_toughness]\n",
        "input_data = pd.DataFrame(columns=column_names)\n",
        "input_data.loc[len(input_data)] = input_data_list\n",
        "\n",
        "\n",
        "train = pd.read_csv('/usr/local/spall_strength_prediction/dataset/metals&alloys.csv')\n",
        "\n",
        "### creating train and test sets ###\n",
        "trainX = train[column_names]\n",
        "trainy = train['spall_median']\n",
        "\n",
        "### Descriptor scaling ###\n",
        "scalerM = MinMaxScaler()\n",
        "scalerM.fit(trainX)\n",
        "trainX_M = scalerM.transform(trainX)\n",
        "testX_M = scalerM.transform(input_data)\n",
        "\n",
        "#GPR\n",
        "test_pred_GPR, test_pred_GPR_std = GPR.predict(testX_M, return_std=True)\n",
        "\n",
        "\n",
        "print('Predicted Spall Strength using Gaussian Process Regression (GPR) model is: %.2f ± %.2f GPa' %(test_pred_GPR[0], test_pred_GPR_std[0]))\n",
        "\n"
      ]
    },
    {
      "cell_type": "markdown",
      "metadata": {
        "id": "OmIrmhyUoltx"
      },
      "source": [
        "# References and further reading\n",
        "\n",
        "- Keara Frawley, Naresh Thadhani, Rampi Ramprasad, Harikrishna Sahu, *A Machine Learning Approach to Predicting the Spall Strength of Metals and Alloys*, in submission Nov 2024\n",
        "\n",
        "<!-- citation info, DOI: [hyperlink](paper) -->"
      ]
    }
  ],
  "metadata": {
    "colab": {
      "provenance": []
    },
    "kernelspec": {
      "display_name": "Python 3",
      "name": "python3"
    },
    "language_info": {
      "name": "python"
    }
  },
  "nbformat": 4,
  "nbformat_minor": 0
}