{
 "cells": [
  {
   "cell_type": "markdown",
   "metadata": {
    "id": "4f6KZnwQri0d"
   },
   "source": [
    "This notebook imports the GPR model published in the article titled \"Machine Learning for Predictive Understanding of Spall Strength of Metals and Alloys\" and offers predictions for the spall strength of new candidates. For more detailed information, please refer to\n",
    "[hyperlink](paper)."
   ]
  },
  {
   "cell_type": "code",
   "execution_count": 1,
   "metadata": {
    "colab": {
     "base_uri": "https://localhost:8080/",
     "height": 257
    },
    "id": "klvat5vnSMF3",
    "outputId": "1874d3cf-62dc-41a4-ea00-c8f90fa7f000"
   },
   "outputs": [
    {
     "name": "stdout",
     "output_type": "stream",
     "text": [
      "/usr/local\n",
      "fatal: could not create work tree dir 'spall_strength_prediction': Permission denied\n",
      "Predicted Spall Strength using Gaussian Process Regression (GPR) model is: 1.184 ± 0.758 GPa\n"
     ]
    }
   ],
   "source": [
    "#@title Predict the Spall Strength for a Metal or Alloy\n",
    "#@markdown ***Please first input your parameters, and then press on the left button to run.***\n",
    "\n",
    "# Import packages\n",
    "import os\n",
    "import pickle\n",
    "import pandas as pd\n",
    "import sklearn\n",
    "from sklearn.preprocessing import StandardScaler\n",
    "from sklearn.preprocessing import MinMaxScaler\n",
    "\n",
    "# Import models\n",
    "if os.path.exists(\"/usr/local/spall_strength_prediction_models\"):\n",
    "  pass\n",
    "else:\n",
    "  %cd /usr/local\n",
    "  !git clone -q https://github.com/Ramprasad-Group/spall_strength_prediction.git\n",
    "\n",
    "# Load models\n",
    "# Load the GPR model\n",
    "with open('/usr/local/spall_strength_prediction-main/model/gpr.pkl', 'rb') as file:\n",
    "    GPR = pickle.load(file)\n",
    "\n",
    "\n",
    "\n",
    "# @markdown 1. Ultimate Tensile Strength (UTS) (MPa):\n",
    "UTS = 159 # @param {type:\"number\"}\n",
    "# @markdown 2. Tensile Yield Strength (MPa):\n",
    "yield_strength = 70 # @param {type:\"number\"}\n",
    "# @markdown 3. Bulk Modulus (GPa):\n",
    "bulk_modulus = 101 # @param {type:\"number\"}\n",
    "# @markdown 4. Young's Modulus (GPa):\n",
    "youngs_modulus = 75 # @param {type:\"number\"}\n",
    "# @markdown 5. Density (g/cc):\n",
    "density = 10.50 # @param {type:\"number\"}\n",
    "# @markdown 6. Vickers Hardness (HV):\n",
    "hardness = 25 # @param {type:\"number\"}\n",
    "# @markdown 7. Fracture Toughness (MPa√m):\n",
    "fracture_toughness = 73 # @param {type:\"number\"}\n",
    "\n",
    "# Create a pandas DataFrame\n",
    "column_names = ['UTS', 'yield_strength', 'bulk_modulus', 'youngs_modulus', 'density',\n",
    "       'hardness', 'fracture_toughness']\n",
    "input_data_list = [UTS,yield_strength, bulk_modulus, youngs_modulus, density,\n",
    "                   hardness, fracture_toughness]\n",
    "input_data = pd.DataFrame(columns=column_names)\n",
    "input_data.loc[len(input_data)] = input_data_list\n",
    "\n",
    "df = pd.read_csv(\"/usr/local/spall_strength_prediction-main/dataset/metals&alloys_base+3validation.csv\")\n",
    "\n",
    "### creating train and test sets ###\n",
    "train = df[df[\"test or train\"] == 'train']\n",
    "test = df[df[\"test or train\"] == 'test']\n",
    "proxies = ['uts_median', 'yield_median', 'frac_median', 'hard_median', 'dens_median','bulk_median', 'young_median']\n",
    "trainX = train[proxies]\n",
    "trainy = train['spall_median']\n",
    "testX = test[proxies]\n",
    "testy = test['spall_median']\n",
    "\n",
    "### Descriptor scaling ###\n",
    "scalerM = MinMaxScaler()\n",
    "scalerM.fit(trainX)\n",
    "trainX_M = scalerM.transform(trainX)\n",
    "testX_M = scalerM.transform(testX)\n",
    "\n",
    "#GPR\n",
    "test_pred_GPR, test_pred_GPR_std = GPR.predict(testX_M, return_std=True)\n",
    "\n",
    "\n",
    "print('Predicted Spall Strength using Gaussian Process Regression (GPR) model is: %.3f ± %.3f GPa' %(test_pred_GPR[0], test_pred_GPR_std[0]))\n",
    "\n"
   ]
  },
  {
   "cell_type": "markdown",
   "metadata": {
    "id": "OmIrmhyUoltx"
   },
   "source": [
    "# References and further reading\n",
    "\n",
    "- Keara Frawley, Harikrishna Sahu, Naresh Thadhani, Rampi Ramprasad, *Machine Learning for Predictive Understanding of Spall Strength of Metals and Alloys*, citation info, DOI: [hyperlink](paper)"
   ]
  },
  {
   "cell_type": "code",
   "execution_count": null,
   "metadata": {},
   "outputs": [],
   "source": []
  }
 ],
 "metadata": {
  "colab": {
   "provenance": []
  },
  "kernelspec": {
   "display_name": "Python 3 (ipykernel)",
   "language": "python",
   "name": "python3"
  },
  "language_info": {
   "codemirror_mode": {
    "name": "ipython",
    "version": 3
   },
   "file_extension": ".py",
   "mimetype": "text/x-python",
   "name": "python",
   "nbconvert_exporter": "python",
   "pygments_lexer": "ipython3",
   "version": "3.11.5"
  }
 },
 "nbformat": 4,
 "nbformat_minor": 4
}
